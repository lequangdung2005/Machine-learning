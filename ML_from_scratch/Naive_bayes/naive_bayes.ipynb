{
 "cells": [
  {
   "cell_type": "code",
   "execution_count": 62,
   "metadata": {},
   "outputs": [],
   "source": [
    "from sklearn.datasets import load_iris\n",
    "from sklearn.model_selection import train_test_split\n",
    "X, y = load_iris(return_X_y=True)\n",
    "import numpy as np"
   ]
  },
  {
   "cell_type": "code",
   "execution_count": 63,
   "metadata": {},
   "outputs": [],
   "source": [
    "X_train, X_test, y_train, y_test = train_test_split(X, y, test_size=0.3, random_state=0)"
   ]
  },
  {
   "cell_type": "code",
   "execution_count": 64,
   "metadata": {},
   "outputs": [],
   "source": [
    "def train(X_train,y_train):\n",
    "    efficient=[]    \n",
    "    for value in  list(set(y_train)):\n",
    "        X=X_train[y_train==value]\n",
    "        y=y_train[y_train==value]\n",
    "        mean=np.mean(X,axis=0)\n",
    "        std=np.std(X,axis=0)\n",
    "        efficient.append((mean,std))\n",
    "    return efficient\n",
    "\n",
    "\n",
    "\n",
    "\n",
    "def caculate_percent(x,mean,std):\n",
    "    x=1/np.sqrt(np.pi*2*std**2)*np.exp(-(x-mean)**2/(2*std**2))\n",
    "    return np.prod(x,axis=1,keepdims=True)\n",
    "\n"
   ]
  },
  {
   "cell_type": "code",
   "execution_count": 65,
   "metadata": {},
   "outputs": [],
   "source": [
    "\n",
    "def predict(efficient,x):\n",
    "    results=np.array([])\n",
    "    for i,(mean,std) in enumerate(efficient):\n",
    "        result=caculate_percent(x,mean,std)\n",
    "        if i==0:\n",
    "            results=result\n",
    "        else:\n",
    "           results=np.concatenate((results,result),axis=1)\n",
    "  \n",
    "    return results"
   ]
  },
  {
   "cell_type": "code",
   "execution_count": 66,
   "metadata": {},
   "outputs": [
    {
     "name": "stdout",
     "output_type": "stream",
     "text": [
      "Arrcuracy: 0.9777777777777777\n"
     ]
    }
   ],
   "source": [
    "efficient=train(X_train,y_train)\n",
    "results=predict(efficient,X_test)\n",
    "results.shape\n",
    "results=np.argmax(results,axis=1)\n",
    "print(\"Arrcuracy:\",np.sum(results==y_test)/len(y_test))\n"
   ]
  }
 ],
 "metadata": {
  "kernelspec": {
   "display_name": "lqd",
   "language": "python",
   "name": "python3"
  },
  "language_info": {
   "codemirror_mode": {
    "name": "ipython",
    "version": 3
   },
   "file_extension": ".py",
   "mimetype": "text/x-python",
   "name": "python",
   "nbconvert_exporter": "python",
   "pygments_lexer": "ipython3",
   "version": "3.11.9"
  }
 },
 "nbformat": 4,
 "nbformat_minor": 2
}
